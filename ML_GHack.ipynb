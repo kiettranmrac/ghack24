{
  "nbformat": 4,
  "nbformat_minor": 0,
  "metadata": {
    "colab": {
      "provenance": [],
      "authorship_tag": "ABX9TyNW5VfdmB+qN13t7RNhkCF4",
      "include_colab_link": true
    },
    "kernelspec": {
      "name": "python3",
      "display_name": "Python 3"
    },
    "language_info": {
      "name": "python"
    }
  },
  "cells": [
    {
      "cell_type": "markdown",
      "metadata": {
        "id": "view-in-github",
        "colab_type": "text"
      },
      "source": [
        "<a href=\"https://colab.research.google.com/github/kiettranmrac/ghack24/blob/main/ML_GHack.ipynb\" target=\"_parent\"><img src=\"https://colab.research.google.com/assets/colab-badge.svg\" alt=\"Open In Colab\"/></a>"
      ]
    },
    {
      "cell_type": "code",
      "execution_count": 151,
      "metadata": {
        "id": "SWa5RjO_3CO_"
      },
      "outputs": [],
      "source": [
        "import numpy as np\n",
        "import pandas as pd\n",
        "from matplotlib import pyplot as plt\n",
        "\n",
        "data = pd.read_csv('mushrooms.csv')\n",
        "# data\n"
      ]
    },
    {
      "cell_type": "code",
      "source": [
        "from sklearn.preprocessing import OrdinalEncoder\n",
        "from sklearn import preprocessing as pre\n",
        "\n",
        "enc = OrdinalEncoder()\n",
        "data = enc.fit_transform(data).astype(np.int64)\n",
        "# df_test = pd.DataFrame(data)\n",
        "# display(df_test.head(10))\n",
        "# display(df_test.describe())\n",
        "arr = data.max(axis=0)\n",
        "# display(arr)\n",
        "for i in range(len(data)):\n",
        "  for j in range(1, len(data[i])):\n",
        "    if (arr[j] != 0):\n",
        "      data[i][j] = data[i][j] / arr[j]\n",
        "\n",
        "\n",
        "# Split data\n",
        "\n",
        "data = np.array(data)\n",
        "m, n = data.shape\n",
        "np.random.shuffle(data) # shuffle before splitting into dev and training sets\n",
        "\n",
        "data_dev = data[0:6500].T # chose 6500 as ~80% of data for dev\n",
        "Y_dev = data_dev[0]\n",
        "X_dev = data_dev[1:n]\n",
        "\n",
        "data_train = data[6500:m].T\n",
        "Y_train = data_train[0]\n",
        "X_train = data_train[1:n]\n",
        "_,m_train = X_train.shape\n",
        "\n"
      ],
      "metadata": {
        "id": "2LtX7IdAEbJ_"
      },
      "execution_count": 152,
      "outputs": []
    },
    {
      "cell_type": "code",
      "source": [
        "display(Y_train.shape)\n",
        "display(X_train.shape)"
      ],
      "metadata": {
        "colab": {
          "base_uri": "https://localhost:8080/",
          "height": 52
        },
        "id": "PxOd1YsAOhLw",
        "outputId": "2d90a415-2065-432d-81db-12487b09354e"
      },
      "execution_count": 153,
      "outputs": [
        {
          "output_type": "display_data",
          "data": {
            "text/plain": [
              "(1624,)"
            ]
          },
          "metadata": {}
        },
        {
          "output_type": "display_data",
          "data": {
            "text/plain": [
              "(22, 1624)"
            ]
          },
          "metadata": {}
        }
      ]
    },
    {
      "cell_type": "code",
      "source": [
        "# Methods for neurel network\n",
        "def init_params():\n",
        "    W1 = np.random.rand(2, 22) - 0.5\n",
        "    b1 = np.random.rand(2, 1) - 0.5\n",
        "    W2 = np.random.rand(2, 2) - 0.5\n",
        "    b2 = np.random.rand(2, 1) - 0.5\n",
        "    return W1, b1, W2, b2\n",
        "\n",
        "def ReLU(Z):\n",
        "    return np.maximum(Z, 0)\n",
        "\n",
        "def softmax(Z):\n",
        "    A = np.exp(Z) / sum(np.exp(Z))\n",
        "    return A\n",
        "\n",
        "def forward_prop(W1, b1, W2, b2, X):\n",
        "    Z1 = W1.dot(X) + b1\n",
        "    A1 = ReLU(Z1)\n",
        "    Z2 = W2.dot(A1) + b2\n",
        "    A2 = softmax(Z2)\n",
        "    return Z1, A1, Z2, A2\n",
        "\n",
        "def ReLU_deriv(Z):\n",
        "    return Z > 0\n",
        "\n",
        "def one_hot(Y):\n",
        "    one_hot_Y = np.zeros((Y.size, Y.max() + 1))\n",
        "    one_hot_Y[np.arange(Y.size), Y] = 1\n",
        "    one_hot_Y = one_hot_Y.T\n",
        "    return one_hot_Y\n",
        "\n",
        "def backward_prop(Z1, A1, Z2, A2, W1, W2, X, Y):\n",
        "    one_hot_Y = one_hot(Y)\n",
        "    dZ2 = A2 - one_hot_Y\n",
        "    dW2 = 1 / m * dZ2.dot(A1.T)\n",
        "    db2 = 1 / m * np.sum(dZ2)\n",
        "    dZ1 = W2.T.dot(dZ2) * ReLU_deriv(Z1)\n",
        "    dW1 = 1 / m * dZ1.dot(X.T)\n",
        "    db1 = 1 / m * np.sum(dZ1)\n",
        "    return dW1, db1, dW2, db2\n",
        "\n",
        "def update_params(W1, b1, W2, b2, dW1, db1, dW2, db2, alpha):\n",
        "    W1 = W1 - alpha * dW1\n",
        "    b1 = b1 - alpha * db1\n",
        "    W2 = W2 - alpha * dW2\n",
        "    b2 = b2 - alpha * db2\n",
        "    return W1, b1, W2, b2\n",
        "\n",
        "def get_predictions(A2):\n",
        "    return np.argmax(A2, 0)\n",
        "\n",
        "def get_accuracy(predictions, Y):\n",
        "    print(predictions, Y)\n",
        "    return np.sum(predictions == Y) / Y.size\n",
        "\n",
        "def gradient_descent(X, Y, alpha, iterations):\n",
        "    W1, b1, W2, b2 = init_params()\n",
        "    for i in range(iterations):\n",
        "        Z1, A1, Z2, A2 = forward_prop(W1, b1, W2, b2, X)\n",
        "        dW1, db1, dW2, db2 = backward_prop(Z1, A1, Z2, A2, W1, W2, X, Y)\n",
        "        W1, b1, W2, b2 = update_params(W1, b1, W2, b2, dW1, db1, dW2, db2, alpha)\n",
        "        if i % 50 == 0:\n",
        "            print(\"Iteration: \", i)\n",
        "            predictions = get_predictions(A2)\n",
        "            print(get_accuracy(predictions, Y))\n",
        "    return W1, b1, W2, b2"
      ],
      "metadata": {
        "id": "-l2OwAxgF6v_"
      },
      "execution_count": 154,
      "outputs": []
    },
    {
      "cell_type": "code",
      "source": [
        "W1, b1, W2, b2 = gradient_descent(X_train, Y_train, 0.10, 500)"
      ],
      "metadata": {
        "colab": {
          "base_uri": "https://localhost:8080/"
        },
        "id": "Pib8ZGq7GeNV",
        "outputId": "ec2f0a9c-e051-4e97-c0b1-1e10fa63e823"
      },
      "execution_count": 155,
      "outputs": [
        {
          "output_type": "stream",
          "name": "stdout",
          "text": [
            "Iteration:  0\n",
            "[1 0 1 ... 1 1 1] [0 0 1 ... 0 1 0]\n",
            "0.4544334975369458\n",
            "Iteration:  50\n",
            "[0 0 1 ... 1 1 1] [0 0 1 ... 0 1 0]\n",
            "0.4963054187192118\n",
            "Iteration:  100\n",
            "[0 0 1 ... 0 1 0] [0 0 1 ... 0 1 0]\n",
            "0.5763546798029556\n",
            "Iteration:  150\n",
            "[0 0 1 ... 0 1 0] [0 0 1 ... 0 1 0]\n",
            "0.6681034482758621\n",
            "Iteration:  200\n",
            "[0 0 1 ... 0 1 0] [0 0 1 ... 0 1 0]\n",
            "0.728448275862069\n",
            "Iteration:  250\n",
            "[0 0 1 ... 0 1 1] [0 0 1 ... 0 1 0]\n",
            "0.6908866995073891\n",
            "Iteration:  300\n",
            "[0 0 1 ... 0 1 1] [0 0 1 ... 0 1 0]\n",
            "0.7333743842364532\n",
            "Iteration:  350\n",
            "[0 0 1 ... 0 1 0] [0 0 1 ... 0 1 0]\n",
            "0.8325123152709359\n",
            "Iteration:  400\n",
            "[0 0 1 ... 0 1 0] [0 0 1 ... 0 1 0]\n",
            "0.8448275862068966\n",
            "Iteration:  450\n",
            "[0 0 1 ... 0 1 0] [0 0 1 ... 0 1 0]\n",
            "0.8947044334975369\n"
          ]
        }
      ]
    },
    {
      "cell_type": "code",
      "source": [
        "def make_predictions(X, W1, b1, W2, b2):\n",
        "    _, _, _, A2 = forward_prop(W1, b1, W2, b2, X)\n",
        "    predictions = get_predictions(A2)\n",
        "    return predictions\n",
        "\n",
        "def test_prediction(index, W1, b1, W2, b2):\n",
        "    current_image = X_train[:, index, None]\n",
        "    prediction = make_predictions(X_train[:, index, None], W1, b1, W2, b2)\n",
        "    label = Y_train[index]\n",
        "    print(\"Prediction: \", prediction)\n",
        "    print(\"Label: \", label)"
      ],
      "metadata": {
        "id": "y7a8g1Q6TjXg"
      },
      "execution_count": 148,
      "outputs": []
    },
    {
      "cell_type": "code",
      "source": [
        "test_prediction(0, W1, b1, W2, b2)\n",
        "test_prediction(1, W1, b1, W2, b2)\n",
        "test_prediction(2, W1, b1, W2, b2)\n",
        "test_prediction(3, W1, b1, W2, b2)"
      ],
      "metadata": {
        "colab": {
          "base_uri": "https://localhost:8080/"
        },
        "id": "acXckHSbTlQC",
        "outputId": "2609ee6c-6822-49ef-8def-41a8cf41f725"
      },
      "execution_count": 149,
      "outputs": [
        {
          "output_type": "stream",
          "name": "stdout",
          "text": [
            "Prediction:  [1]\n",
            "Label:  0\n",
            "Prediction:  [1]\n",
            "Label:  0\n",
            "Prediction:  [1]\n",
            "Label:  1\n",
            "Prediction:  [1]\n",
            "Label:  0\n"
          ]
        }
      ]
    },
    {
      "cell_type": "code",
      "source": [
        "dev_predictions = make_predictions(X_dev, W1, b1, W2, b2)\n",
        "get_accuracy(dev_predictions, Y_dev)"
      ],
      "metadata": {
        "colab": {
          "base_uri": "https://localhost:8080/"
        },
        "id": "X4LW05DGTl2K",
        "outputId": "b6cf92a1-b1a8-4a5f-a621-9ba0e8950a95"
      },
      "execution_count": 150,
      "outputs": [
        {
          "output_type": "stream",
          "name": "stdout",
          "text": [
            "[1 1 1 ... 1 1 1] [1 1 0 ... 1 1 0]\n"
          ]
        },
        {
          "output_type": "execute_result",
          "data": {
            "text/plain": [
              "0.4829230769230769"
            ]
          },
          "metadata": {},
          "execution_count": 150
        }
      ]
    },
    {
      "cell_type": "code",
      "source": [],
      "metadata": {
        "id": "7rYTvMnKT0Ev"
      },
      "execution_count": null,
      "outputs": []
    }
  ]
}